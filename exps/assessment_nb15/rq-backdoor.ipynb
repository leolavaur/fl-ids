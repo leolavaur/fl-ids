{
 "cells": [
  {
   "cell_type": "markdown",
   "metadata": {},
   "source": [
    "# Impact Assessment of Data Poisoning Attacks on Collaborative Intrusion Detection Systems using Federated Learning"
   ]
  },
  {
   "cell_type": "code",
   "execution_count": 3,
   "metadata": {},
   "outputs": [],
   "source": [
    "%load_ext autoreload\n",
    "%autoreload 2"
   ]
  },
  {
   "cell_type": "code",
   "execution_count": 4,
   "metadata": {},
   "outputs": [],
   "source": [
    "import matplotlib\n",
    "import matplotlib.pyplot as plt\n",
    "from matplotlib.backends.backend_pgf import FigureCanvasPgf\n",
    "\n",
    "# Make the interactive backend as PDF\n",
    "matplotlib.backend_bases.register_backend(\"pdf\", FigureCanvasPgf)\n",
    "\n",
    "plt.style.use(\"acmcompat.mplstyle\")\n",
    "\n",
    "\n",
    "def figsize(x, y, two_column=False):\n",
    "    \"\"\"Make a figure size with respect to a given width.\n",
    "\n",
    "    Example:\n",
    "    --------\n",
    "    >>> mk_figsize(1, 1)\n",
    "    (3.3374, 3.3374)\n",
    "    >>> mk_figsize(1, 2)\n",
    "    (3.3374, 6.6748)\n",
    "    >>> mk_figsize(1, 1/3, two_column=True)\n",
    "    (7.00697, 2.2258)\n",
    "    \"\"\"\n",
    "    columnwidth = 3.3374\n",
    "    textwidth = 7.00697\n",
    "\n",
    "    w = textwidth if two_column else columnwidth\n",
    "    return w * x, w * y\n",
    "\n",
    "\n",
    "SAVEDIR = \"/Users/leo/Workspace/imta/assessment-paper/src/figures/\""
   ]
  },
  {
   "cell_type": "markdown",
   "metadata": {},
   "source": [
    "## Executive Summary\n",
    "\n",
    "- **RQ0**: Is the experiment sound?\n",
    "- **RQ1**: Is the behavior of poisoning attacks predictable?\n",
    "- **RQ2**: Are there hyperparameter combinations that are beneficial or detrimental in poisoning situation?\n",
    "- **RQ3**: At what point do poisoning attacks start having an impact? (proportion of poisoned data/clients)\n",
    "- **RQ4**: Can FL recover from poisoning attacks after model aggregation? How long does it take?\n",
    "- **RQ5**: Are backdoor attacks realistic in IDS context?\n",
    "- **RQ6**: Is model similarity enough to detect poisoning attacks? (OPTIONAL)\n"
   ]
  },
  {
   "cell_type": "markdown",
   "metadata": {},
   "source": [
    "## RQ5: Are backdoor attacks realistic in IDS context?\n",
    "\n",
    "Note that this does not refer to the backdoor attacks as often defined in ML, but more as backdoors applied to NIDS, where the attacker makes it so that the IDS does not detect a specific attack or attack pattern.\n",
    "\n",
    "## Test methodology\n",
    "\n",
    "- focus on one hyperparameter combination (default `512` / `10-10`, adapt with results of RQ1)\n",
    "- focus on targeted attacks (test all targets)\n",
    "- look especially at the attack success rate (see def in Trust-FIDS)\n",
    "\n",
    "**Note**: some results must be gathered from other runs (*eg.*, class \"dos\" has been removed here since it's already available in \"attacks/\")."
   ]
  },
  {
   "cell_type": "code",
   "execution_count": 7,
   "metadata": {},
   "outputs": [
    {
     "data": {
      "text/html": [
       "<style>table td, table th, table tr {text-align:left !important;}</style><table><tr><th>Key</th><th>Values</th></tr><tr><td>datasets</td><td>nfv2_sampled_nb15</td></tr><tr><td>distribution</td><td>9-1, 5-5, 3-7, 7-3</td></tr><tr><td>epochs</td><td>100_10x10</td></tr><tr><td>scenario</td><td>continuous-80, continuous-90, continuous-95, continuous-70, continuous-100, continuous-10, continuous-99</td></tr><tr><td>target</td><td>backdoor, fuzzers, generic, worms, exploits, analysis, dos, shellcode, reconnaissance</td></tr><tr><td>batch_size</td><td>512</td></tr><tr><td>partitioner</td><td>iid</td></tr><tr><td>seed</td><td>2187, 1313, 3263827, 1977, 5555, 327, 1138, 6567, 501, 421</td></tr></table>"
      ],
      "text/plain": [
       "<IPython.core.display.HTML object>"
      ]
     },
     "metadata": {},
     "output_type": "display_data"
    }
   ],
   "source": [
    "from eiffel.analysis.metrics import choices, display_choices\n",
    "\n",
    "display_choices(choices(\"attacks-targeted/results/\"))"
   ]
  },
  {
   "cell_type": "code",
   "execution_count": 9,
   "metadata": {},
   "outputs": [
    {
     "ename": "ValueError",
     "evalue": "No results found with conditions {'target': 'ExploitsFuzzersGenericReconnaissanceDoSAnalysisBackdoorShellcodeWorms', 'scenario': 'continuous-100', 'distribution': '10-0'}.",
     "output_type": "error",
     "traceback": [
      "\u001b[0;31m---------------------------------------------------------------------------\u001b[0m",
      "\u001b[0;31mValueError\u001b[0m                                Traceback (most recent call last)",
      "Cell \u001b[0;32mIn[9], line 43\u001b[0m\n\u001b[1;32m     36\u001b[0m missfn \u001b[38;5;241m=\u001b[39m partial(\n\u001b[1;32m     37\u001b[0m     load_metric,\n\u001b[1;32m     38\u001b[0m     dotpath\u001b[38;5;241m=\u001b[39m\u001b[38;5;124mf\u001b[39m\u001b[38;5;124m\"\u001b[39m\u001b[38;5;132;01m{\u001b[39;00mlabel\u001b[38;5;132;01m}\u001b[39;00m\u001b[38;5;124m.missrate\u001b[39m\u001b[38;5;124m\"\u001b[39m,\n\u001b[1;32m     39\u001b[0m     attr\u001b[38;5;241m=\u001b[39m\u001b[38;5;124m\"\u001b[39m\u001b[38;5;124mdistributed\u001b[39m\u001b[38;5;124m\"\u001b[39m,\n\u001b[1;32m     40\u001b[0m     with_malicious\u001b[38;5;241m=\u001b[39m\u001b[38;5;28;01mFalse\u001b[39;00m,\n\u001b[1;32m     41\u001b[0m )\n\u001b[1;32m     42\u001b[0m asrfn \u001b[38;5;241m=\u001b[39m partial(load_asr, target\u001b[38;5;241m=\u001b[39m[label])\n\u001b[0;32m---> 43\u001b[0m refs \u001b[38;5;241m=\u001b[39m [Plotable(m, asrfn(m)) \u001b[38;5;28;01mfor\u001b[39;00m m \u001b[38;5;129;01min\u001b[39;00m \u001b[43msearchfn\u001b[49m\u001b[43m(\u001b[49m\u001b[43mdistribution\u001b[49m\u001b[38;5;241;43m=\u001b[39;49m\u001b[38;5;124;43m\"\u001b[39;49m\u001b[38;5;124;43m10-0\u001b[39;49m\u001b[38;5;124;43m\"\u001b[39;49m\u001b[43m)\u001b[49m]\n\u001b[1;32m     45\u001b[0m \u001b[38;5;28;01mfor\u001b[39;00m dist \u001b[38;5;129;01min\u001b[39;00m (\u001b[38;5;124m\"\u001b[39m\u001b[38;5;124m7-3\u001b[39m\u001b[38;5;124m\"\u001b[39m, \u001b[38;5;124m\"\u001b[39m\u001b[38;5;124m5-5\u001b[39m\u001b[38;5;124m\"\u001b[39m, \u001b[38;5;124m\"\u001b[39m\u001b[38;5;124m3-7\u001b[39m\u001b[38;5;124m\"\u001b[39m):\n\u001b[1;32m     46\u001b[0m     attack_paths \u001b[38;5;241m=\u001b[39m searchfn(distribution\u001b[38;5;241m=\u001b[39mdist)\n",
      "File \u001b[0;32m~/Workspace/phdcybersec/eiffel/eiffel/analysis/metrics.py:240\u001b[0m, in \u001b[0;36msearch_results\u001b[0;34m(path, sort, **conditions)\u001b[0m\n\u001b[1;32m    237\u001b[0m         metrics\u001b[38;5;241m.\u001b[39mappend(d\u001b[38;5;241m.\u001b[39mas_posix())\n\u001b[1;32m    239\u001b[0m \u001b[38;5;28;01mif\u001b[39;00m \u001b[38;5;28mlen\u001b[39m(metrics) \u001b[38;5;241m==\u001b[39m \u001b[38;5;241m0\u001b[39m:\n\u001b[0;32m--> 240\u001b[0m     \u001b[38;5;28;01mraise\u001b[39;00m \u001b[38;5;167;01mValueError\u001b[39;00m(\u001b[38;5;124mf\u001b[39m\u001b[38;5;124m\"\u001b[39m\u001b[38;5;124mNo results found with conditions \u001b[39m\u001b[38;5;132;01m{\u001b[39;00mconditions\u001b[38;5;132;01m}\u001b[39;00m\u001b[38;5;124m.\u001b[39m\u001b[38;5;124m\"\u001b[39m)\n\u001b[1;32m    242\u001b[0m \u001b[38;5;28;01mreturn\u001b[39;00m \u001b[38;5;28msorted\u001b[39m(metrics) \u001b[38;5;28;01mif\u001b[39;00m sort \u001b[38;5;28;01melse\u001b[39;00m metrics\n",
      "\u001b[0;31mValueError\u001b[0m: No results found with conditions {'target': 'ExploitsFuzzersGenericReconnaissanceDoSAnalysisBackdoorShellcodeWorms', 'scenario': 'continuous-100', 'distribution': '10-0'}."
     ]
    },
    {
     "data": {
      "image/png": "[encoded data removed]",
      "text/plain": [
       "<Figure size 700.697x280.279 with 9 Axes>"
      ]
     },
     "metadata": {},
     "output_type": "display_data"
    }
   ],
   "source": [
    "import itertools\n",
    "from functools import partial\n",
    "\n",
    "import matplotlib.pyplot as plt\n",
    "import numpy as np\n",
    "from eiffel.analysis.metrics import load_asr, load_metric, search_results\n",
    "from eiffel.analysis.plot import Plotable, scale\n",
    "from matplotlib.axes import Axes\n",
    "\n",
    "labels = [\n",
    "    #\"Benign\"\n",
    "    \"Exploits\",\n",
    "    \"Fuzzers\",\n",
    "    \"Generic\",\n",
    "    \"Reconnaissance\",\n",
    "    \"DoS\",\n",
    "    \"Analysis\",\n",
    "    \"Backdoor\",\n",
    "    \"Shellcode\",\n",
    "    \"Worms\"\n",
    "]\n",
    "\n",
    "fig, axs = plt.subplots(\n",
    "    3, 3, figsize=figsize(1, 0.4, two_column=True), sharey=True, tight_layout=True\n",
    ")\n",
    "\n",
    "for i, label in enumerate(labels):\n",
    "    ax: Axes = axs[i // 3, i % 3]\n",
    "\n",
    "    searchfn = partial(\n",
    "        search_results,\n",
    "        \"attacks-targeted/results/\",\n",
    "        target=label,\n",
    "        scenario=\"continuous-100\",\n",
    "    )\n",
    "    missfn = partial(\n",
    "        load_metric,\n",
    "        dotpath=f\"{label}.missrate\",\n",
    "        attr=\"distributed\",\n",
    "        with_malicious=False,\n",
    "    )\n",
    "    asrfn = partial(load_asr, target=[label])\n",
    "    refs = [Plotable(m, asrfn(m)) for m in searchfn(distribution=\"10-0\")]\n",
    "\n",
    "    for dist in (\"7-3\", \"5-5\", \"3-7\"):\n",
    "        attack_paths = searchfn(distribution=dist)\n",
    "        assert len(attack_paths) == 10\n",
    "\n",
    "        asrs = [\n",
    "            Plotable(p, asrfn(p, reference=r.values))\n",
    "            for p, r in zip(attack_paths, refs)\n",
    "        ]\n",
    "        asrs = scale(asrs, 100)\n",
    "        ax.plot(\n",
    "            np.mean([a.values for a in asrs], axis=0),\n",
    "            label=rf\"RASR ({dist.split('-')[1]}0\\%)\",\n",
    "            linestyle=\"-\",\n",
    "        )\n",
    "\n",
    "        accs = [\n",
    "            Plotable(m, load_metric(m, dotpath=\"global.accuracy\")) for m in attack_paths\n",
    "        ]\n",
    "        accs = scale(accs, 100)\n",
    "        ax.plot(\n",
    "            np.mean([a.values for a in accs], axis=0),\n",
    "            label=rf\"MTA ({dist.split('-')[1]}0\\%)\",\n",
    "            linestyle=\"--\",\n",
    "            alpha=0.5,\n",
    "        )\n",
    "\n",
    "        # missrates = [Plotable(m, missfn(m)) for m in attack_paths]\n",
    "        # missrates = scale(missrates, 100)\n",
    "        # ax.plot(\n",
    "        #     np.mean([m.values for m in missrates], axis=0),\n",
    "        #     label=\"miss rate\",\n",
    "        #     markevery=(10, 30),\n",
    "        #     linestyle=\"-.\",\n",
    "        #     marker=\"x\",\n",
    "        # )\n",
    "\n",
    "    refs = scale(refs, 100)\n",
    "    ax.plot(\n",
    "        np.mean([r.values for r in refs], axis=0),\n",
    "        label=r\"AASR (0\\%)\",\n",
    "        linestyle=\":\",\n",
    "    )\n",
    "\n",
    "    ax.set_title(\n",
    "        label\n",
    "    )\n",
    "\n",
    "\n",
    "abc = \"abcdefghijklmnopqrstuvwxyz\"\n",
    "for i, ax in enumerate(axs.ravel()):\n",
    "    ax.set_yticks(np.linspace(0, 1, 5))\n",
    "    ax.grid(axis=\"y\", linestyle=\"--\", alpha=0.5)\n",
    "    ax.set_title(r\"\\textbf{\" f\"({abc[i]}) {ax.get_title()}\" r\"}\")\n",
    "    for line, m, e in zip(ax.lines, itertools.cycle(\"o^D*sv+x\"), range(len(ax.lines))):\n",
    "        line.set_marker(m)\n",
    "        line.set_markevery((e * 10, len(ax.lines) * 10))\n",
    "\n",
    "\n",
    "lgd = fig.legend(\n",
    "    *axs[0, 0].get_legend_handles_labels(),\n",
    "    loc=\"upper center\",\n",
    "    ncol=4,\n",
    "    bbox_to_anchor=(0.5, 1.08),\n",
    ")\n",
    "\n",
    "fig.savefig(SAVEDIR + \"backdoors.pdf\", bbox_extra_artists=(lgd,), bbox_inches=\"tight\")"
   ]
  },
  {
   "cell_type": "code",
   "execution_count": null,
   "metadata": {},
   "outputs": [],
   "source": []
  }
 ],
 "metadata": {
  "kernelspec": {
   "display_name": "Python 3",
   "language": "python",
   "name": "python3"
  },
  "language_info": {
   "codemirror_mode": {
    "name": "ipython",
    "version": 3
   },
   "file_extension": ".py",
   "mimetype": "text/x-python",
   "name": "python",
   "nbconvert_exporter": "python",
   "pygments_lexer": "ipython3",
   "version": "3.11.3"
  },
  "orig_nbformat": 4
 },
 "nbformat": 4,
 "nbformat_minor": 2
}
