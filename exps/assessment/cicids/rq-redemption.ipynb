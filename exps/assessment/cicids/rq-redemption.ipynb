{
 "cells": [
  {
   "cell_type": "markdown",
   "metadata": {},
   "source": [
    "# Impact Assessment of Data Poisoning Attacks on Collaborative Intrusion Detection Systems using Federated Learning"
   ]
  },
  {
   "cell_type": "code",
   "execution_count": 1,
   "metadata": {},
   "outputs": [],
   "source": [
    "%load_ext autoreload\n",
    "%autoreload 2"
   ]
  },
  {
   "cell_type": "code",
   "execution_count": 2,
   "metadata": {},
   "outputs": [],
   "source": [
    "from toolbox import init, newfig\n",
    "\n",
    "init()\n",
    "\n",
    "SAVEDIR = (\n",
    "    \"/Users/leo/Workspace/phdcybersec/thesis/src/chapters/50_assessment/figures/cicids/\"\n",
    ")"
   ]
  },
  {
   "cell_type": "markdown",
   "metadata": {},
   "source": [
    "## Executive Summary\n",
    "\n",
    "- **RQ0**: Is the experiment sound?\n",
    "- **RQ1**: Is the behavior of poisoning attacks predictable?\n",
    "- **RQ2**: Are there hyperparameter combinations that are beneficial or detrimental in poisoning situation?\n",
    "- **RQ3**: At what point do poisoning attacks start having an impact? (proportion of poisoned data/clients)\n",
    "- **RQ4**: Can FL recover from poisoning attacks after model aggregation? How long does it take?\n",
    "- **RQ5**: Are backdoor attacks realistic in IDS context?\n",
    "- **RQ6**: Is model similarity enough to detect poisoning attacks? (OPTIONAL)\n"
   ]
  },
  {
   "cell_type": "markdown",
   "metadata": {},
   "source": [
    "## RQ4: Can FL recover from poisoning attacks after model aggregation? How long does it take?\n",
    "- focus on scenario `redemption-3`\n",
    "\t- all distributions: `[\"10-0\",\"9-1\",\"7-3\",\"5-5\",\"3-7\"]`\n",
    "\t- targeted vs untargeted\n",
    "\t- one hyperparameter combination (default `512` / `10-10`, adapt with results of RQ1)"
   ]
  },
  {
   "cell_type": "code",
   "execution_count": 3,
   "metadata": {},
   "outputs": [
    {
     "data": {
      "text/html": [
       "<style>table td, table th, table tr {text-align:left !important;}</style><table><tr><th>Key</th><th>Values</th></tr><tr><td>datasets</td><td>nfv2_sampled_cicids</td></tr><tr><td>distribution</td><td>7-3, 3-7, 5-5, 10-0, 9-1</td></tr><tr><td>epochs</td><td>100_10x10, 100_4x25</td></tr><tr><td>scenario</td><td>redemption-3</td></tr><tr><td>target</td><td>dos, untargeted</td></tr><tr><td>batch_size</td><td>512</td></tr><tr><td>partitioner</td><td>iid</td></tr><tr><td>seed</td><td>1313, 1977, 3263827, 6567, 327, 421, 5555, 501, 2187, 1138</td></tr></table>"
      ],
      "text/plain": [
       "<IPython.core.display.HTML object>"
      ]
     },
     "metadata": {},
     "output_type": "display_data"
    }
   ],
   "source": [
    "from eiffel.analysis.metrics import choices, display_choices\n",
    "\n",
    "display_choices(choices(\"redemption/results/\"))"
   ]
  },
  {
   "cell_type": "code",
   "execution_count": 4,
   "metadata": {},
   "outputs": [
    {
     "data": {
      "image/png": "[encoded data removed]",
      "text/plain": [
       "<Figure size 308.722x138.925 with 2 Axes>"
      ]
     },
     "metadata": {},
     "output_type": "display_data"
    }
   ],
   "source": [
    "from functools import partial\n",
    "\n",
    "import numpy as np\n",
    "from eiffel.analysis.metrics import load_metric, search_results\n",
    "from eiffel.analysis.plot import Plotable, scale\n",
    "from matplotlib import pyplot as plt\n",
    "from matplotlib.axes import Axes\n",
    "\n",
    "loadfn = partial(load_metric, attr=\"distributed\", dotpath=\"global.accuracy\")\n",
    "\n",
    "fig = newfig(100 / 45, width=0.49)\n",
    "axs = fig.subplots(1, 2, sharey=True)\n",
    "\n",
    "for ax, epochs in zip(axs, [10, 4]):\n",
    "    ax: Axes\n",
    "    searchfn = partial(\n",
    "        search_results,\n",
    "        \"redemption/results/\",\n",
    "        target=\"untargeted\",\n",
    "        epochs=f\".*{epochs}x.*\",\n",
    "        scenario=\"redemption-3\",\n",
    "    )\n",
    "\n",
    "    for i, dist in enumerate([\"10-0\", \"9-1\", \"7-3\", \"5-5\", \"3-7\"]):\n",
    "        plotables = scale(\n",
    "            [Plotable(m, loadfn(m)) for m in searchfn(distribution=dist)],\n",
    "            100,\n",
    "        )\n",
    "        assert len(plotables) == 10\n",
    "        plotables = [p[epochs - 1 : epochs + 40] for p in plotables]\n",
    "        ax.plot(\n",
    "            np.array([p.values for p in plotables]).mean(axis=0),\n",
    "            label=r\"$\\tau = 0.%s$\" % dist.split(\"-\")[1],\n",
    "            color=f\"C{i}\",\n",
    "        )\n",
    "\n",
    "    ax.set_title(r\"$\\mathcal{E} = %d$\" % epochs)\n",
    "\n",
    "for i, ax in enumerate(axs):\n",
    "    ax.grid(axis=\"x\", linestyle=\"--\", alpha=0.5)\n",
    "    ax.set_xticks([0, 10, 20, 30, 40])\n",
    "    ax.set_xlabel(\"Epochs\", loc=\"right\")\n",
    "    if i == 0:\n",
    "        ax.set_ylabel(\"Accuracy\", loc=\"top\")\n",
    "    # box = ax.get_position()\n",
    "    # ax.set_position([box.x0, box.y0 + box.height * 0.05, box.width, box.height * 0.95])\n",
    "\n",
    "handles, labels = axs[-1].get_legend_handles_labels()\n",
    "lgd = fig.legend(\n",
    "    handles, labels, loc=\"lower center\", ncol=3, bbox_to_anchor=(0.5, -0.3)\n",
    ")\n",
    "\n",
    "fig.savefig(SAVEDIR + \"redemption.pdf\", bbox_extra_artists=(lgd,), bbox_inches=\"tight\")"
   ]
  },
  {
   "cell_type": "markdown",
   "metadata": {},
   "source": [
    "The model recovers very quickly from the poisoning attack, even with 70% of attackers. \n",
    "This is true even for lower epochs numbers.\n",
    "The impact of the distribution is not significant, as the model still recovers very quickly.\n",
    "This can be expected, as the convergence is very fast in the first place, even with the random weights' initialization.\n",
    "\n",
    "Are there attack types that would be more difficult to recover from?\n",
    "- May be ML backdoors with trigger features (see the other paper)?\n",
    "- Model poisoning with backdoors or frozen layers?\n"
   ]
  },
  {
   "cell_type": "markdown",
   "metadata": {},
   "source": [
    "\n",
    "<span style=\"color:red\">\n",
    "<b>TODO</b>: It is currently unclear whether smaller batch sizes would have an impact on the recovery time, as it has one on the poisoning time.\n",
    "Should we test that?\n",
    "Intuitively, it should not have an impact, as all participants converge very quickly without attackers.\n",
    "</span>"
   ]
  }
 ],
 "metadata": {
  "kernelspec": {
   "display_name": "Python 3",
   "language": "python",
   "name": "python3"
  },
  "language_info": {
   "codemirror_mode": {
    "name": "ipython",
    "version": 3
   },
   "file_extension": ".py",
   "mimetype": "text/x-python",
   "name": "python",
   "nbconvert_exporter": "python",
   "pygments_lexer": "ipython3",
   "version": "3.11.9"
  },
  "orig_nbformat": 4
 },
 "nbformat": 4,
 "nbformat_minor": 2
}
